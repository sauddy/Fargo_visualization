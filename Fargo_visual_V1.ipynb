{
 "cells": [
  {
   "cell_type": "code",
   "execution_count": 1,
   "metadata": {},
   "outputs": [],
   "source": [
    "## This script is developed for the purpose of visualization \n",
    "## of the FARGO output\n",
    "## This script combines the FARGO recommended script and the multifluid script developed by me\n",
    "\n",
    "# Author: sayantan\n",
    "# Date : 14 August 2019\n",
    "## modified : 26 August 2019 added the polar plots\n",
    "\n",
    "from pylab import*\n",
    "import matplotlib.pyplot as plt\n",
    "plt.rcParams['xtick.direction'] = 'in'\n",
    "plt.rcParams['ytick.direction'] = 'in'\n",
    "plt.rc('text', usetex=True)\n",
    "import os\n",
    "import glob\n",
    "import time\n",
    "import multiprocessing as mp\n",
    "import cv2"
   ]
  },
  {
   "cell_type": "code",
   "execution_count": 2,
   "metadata": {},
   "outputs": [],
   "source": [
    "################################### User defined inputs ##################\n",
    "## give to path to the directory of the output\n",
    "# folder = '/Volumes/My_Passport/TIARA_DATA/21_Aug_Pablo_EQ/pablo_eq_setup/outputs/fargo_multifluid_2D_H/'\n",
    "# folder = '/Volumes/My_Passport/TIARA_DATA/21_Aug_Pablo_EQ/pablo_eq_setup/outputs/fargo_multifluid_2D/'\n",
    "# folder = '/Volumes/My_Passport/TIARA_DATA/21_Aug_Pablo_EQ/T1/outputs/fargo_multifluid_T1/'\n",
    "# folder = '/Volumes/My_Passport/TIARA_DATA/21_Aug_Pablo_EQ/T2/outputs/fargo_multifluid_T2/'\n",
    "# folder = '/Volumes/My_Passport/TIARA_DATA/21_Aug_Pablo_EQ/T4/outputs/fargo_multifluid_T4/'\n",
    "folder = 'fargo_multifluid_T0/'\n",
    "# folder = './T8/outputs/fargo_multifluid_T8/'\n",
    "# folder = './T8_0/outputs/fargo_multifluid_T8_0/'\n",
    "fluid_list = ['gas','dust1','dust2'] \n",
    "parameter_list = ['dens','vy','vx']\n",
    "##please select the particular fluid and the parameter from the list\n",
    "f=1;p=0\n",
    "fluid = fluid_list[f]\n",
    "parameter= parameter_list[p]\n",
    "\n",
    "## type of plot\n",
    "\n",
    "# plot_type = \"2D\"\n",
    "plot_type = \"1D\"\n",
    "# plot_type = \"2D_polar\""
   ]
  },
  {
   "cell_type": "code",
   "execution_count": 3,
   "metadata": {},
   "outputs": [],
   "source": [
    "## Making the Parameter class \n",
    "class Parameters(object):\n",
    "    \"\"\"\n",
    "    Class for reading the simulation parameters.\n",
    "    input: string -> name of the parfile, normally variables.par\n",
    "    \"\"\"\n",
    "    def __init__(self, paramfile):\n",
    "        try:\n",
    "            params = open(paramfile,'r') #Opening the parfile\n",
    "        except IOError:                  # Error checker.\n",
    "            print  (paramfile + \" not found.\")\n",
    "            return\n",
    "        lines = params.readlines()     # Reading the parfile\n",
    "        params.close()                 # Closing the parfile\n",
    "        par = {}                       # Allocating a dictionary\n",
    "        for line in lines:             #Iterating over the parfile\n",
    "            name, value = line.split() #Spliting the name and the value (first blank)\n",
    "            try:\n",
    "                float(value)           # First trying with float\n",
    "            except ValueError:         # If it is not float\n",
    "                try:\n",
    "                    int(value)         #                   we try with integer\n",
    "                except ValueError:     # If it is not integer, we know it is string\n",
    "                    value = '\"' + value + '\"'\n",
    "            par[name] = value          # Filling the dictory\n",
    "        self._params = par             # A control atribute, actually not used, good for debbuging\n",
    "        for name in par:               # Iterating over the dictionary\n",
    "            exec(\"self.\"+name.lower()+\"=\"+par[name]) #Making the atributes at runtime\n",
    "\n"
   ]
  },
  {
   "cell_type": "code",
   "execution_count": 4,
   "metadata": {},
   "outputs": [
    {
     "name": "stdout",
     "output_type": "stream",
     "text": [
      "384 128 0 ./outputs/fargo_multifluid_T0/ 0.5 0.0001\n"
     ]
    }
   ],
   "source": [
    "P = Parameters(folder+\"variables.par\")\n",
    "print (P.nx, P.ny, P.omegaframe, P.outputdir, P.sigmaslope, P.sigma0)\n",
    "xmin = loadtxt(folder+\"domain_x.dat\")       #face-centered coodinates\n",
    "ymin = loadtxt(folder+\"domain_y.dat\")[3:-3] #face-centered coordinates. Ghosts are included, so we remove them from the array\n",
    "xc   = 0.5*(xmin[1:]+xmin[:-1]) #cell-centered\n",
    "yc   = 0.5*(ymin[1:]+ymin[:-1]) #cell-centered\n",
    "# P._params\n"
   ]
  },
  {
   "cell_type": "code",
   "execution_count": 5,
   "metadata": {},
   "outputs": [
    {
     "name": "stdout",
     "output_type": "stream",
     "text": [
      "Creation of the directory /Users/sayantan/Desktop/Programming/Dusty_Disk_Gap/movie_outputs_dust1_dens failed/ not needed as it already exit\n",
      "Creation of the directory /Users/sayantan/Desktop/Programming/Dusty_Disk_Gap/movie_outputs_dust1_dens failed/ not needed as it already exit\n"
     ]
    }
   ],
   "source": [
    "list_of_files = glob.glob(folder + fluid + parameter + '*.dat')\n",
    "if (folder + fluid + parameter +'0_2d.dat') in list_of_files:\n",
    "    list_of_files.remove(folder + fluid + parameter +'0_2d.dat')\n",
    "    \n",
    "list=  sorted(list_of_files, key=lambda x: int(x.replace(folder + fluid + parameter, '').replace('.dat', '')))\n",
    "# print(list)\n",
    "current_directory = os.getcwd() \n",
    "# print(\"the current directory in\", current_directory)\n",
    "path= current_directory + '/movie_outputs_'+ fluid +'_'+ parameter\n",
    "path2 = current_directory + '/movie_folder'\n",
    "\n",
    "\n",
    "# os.path.isdir(path)\n",
    "try:      \n",
    "    os.makedirs(path)\n",
    "except OSError:  \n",
    "    print (\"Creation of the directory %s failed/ not needed as it already exit\" % path)\n",
    "else:  \n",
    "    print (\"Successfully created the directory %s\" % path)\n",
    "    \n",
    "try:      \n",
    "    os.makedirs(path2)\n",
    "except OSError:  \n",
    "    print (\"Creation of the directory %s failed/ not needed as it already exit\" % path)\n",
    "else:  \n",
    "    print (\"Successfully created the directory %s\" % path)"
   ]
  },
  {
   "cell_type": "code",
   "execution_count": 6,
   "metadata": {},
   "outputs": [
    {
     "name": "stdout",
     "output_type": "stream",
     "text": [
      "Plotting now...\n",
      "End of simulation\n",
      "Total time for parallel run 4.24 sec\n"
     ]
    }
   ],
   "source": [
    "## This part of the code was introduced to plot and save the images using parallel processing\n",
    "number_of_orbit = len(list)\n",
    "# print(number_of_orbit)\n",
    "# number_of_orbit = 10\n",
    "start = time.time()\n",
    "print(\"Plotting now...\")\n",
    "def do_plot(number):\n",
    "    \n",
    "    '''\n",
    "    This part of the code is taken from Stackoverflow\n",
    "    The plot function:\n",
    "    Input: The length of the data file \n",
    "    Output: The images in the specified output folder \n",
    "    \n",
    "    '''\n",
    "    base_param = fromfile(list[0]).reshape(P.ny,P.nx)\n",
    "    mean_base_param = base_param.mean(axis=1)\n",
    "    filename = list[number]\n",
    "#     print(filename)\n",
    "    fig = plt.figure(number)\n",
    "    param = fromfile(filename).reshape(P.ny,P.nx)\n",
    "    mean_param=param.mean(axis=1)\n",
    "    mean_variation_param = abs((mean_param-mean_base_param))/ mean_base_param\n",
    "    \n",
    "    if plot_type == \"2D\":\n",
    "        imshow(log10(param),cmap=plt.cm.Spectral,origin='lower', aspect='auto',extent=[P.xmin,P.xmax,P.ymin,P.ymax])\n",
    "        plt.title(\"Fluid = %s\"%fluid + r\" $\\epsilon$= %s\"%P.epsilon+ \"  Orbit = %s\"%number+ \" res: %s\"%P.ny +r\"$\\times$ %s\"%P.nx, fontsize=12,color='Black')\n",
    "        plt.ylabel(r\"Radius\", fontsize=15)\n",
    "        plt.xlabel(r\"$\\varphi$\")\n",
    "        plt.colorbar()\n",
    "      \n",
    "    if plot_type == \"2D_polar\":\n",
    "        r, theta = np.meshgrid(xc, yc)\n",
    "#         fig = plt.figure()\n",
    "        ax = plt.subplot(111, polar=True)\n",
    "        ax.yaxis.grid(False)\n",
    "        ax.xaxis.grid(False)\n",
    "#         cax = ax.contourf(r, theta, log10(param), 100,cmap='Blues')  \n",
    "        cax = ax.contourf(r, theta, log10(param), 100 , cmap=plt.cm.Spectral)\n",
    "        cbar = fig.colorbar(cax)\n",
    "        ax.set_yticklabels([])\n",
    "        ax.set_xticklabels([])\n",
    "        cbar.ax.set_ylabel(r\"Log $\\Sigma$\")\n",
    "        plt.title(\"Fluid = %s\"%fluid + \"  Orbit = %s\"%number+ \" res: %s\"%P.ny +r\"$\\times$ %s\"%P.nx, fontsize=12,color='Black')\n",
    "       \n",
    "    elif plot_type == \"1D\":\n",
    "        plt.plot(yc,base_param[:,0],label= \"Initial %s\"%fluid + \" Density\" + \" res: %s\"%P.ny +r\"$\\times$ %s\"%P.nx )  \n",
    "        plt.plot(yc,param[:,0],linestyle='--',label= \"Evolving %s\"%fluid + r\" density for a particular $\\phi$\" + \" Orbit = %s\"%number)  \n",
    "#         plt.plot(yc,mean_param,linestyle='-',label= \"Evolving %s\"%fluid + \" Density\"+\" Orbit = %s\"%number) ## plotting the radial profile\n",
    "#         plt.plot(yc,mean_variation_param,label=\"Orbit = %s\"%number +\" Fluid = %s\"%fluid)       \n",
    "#         plt.plot(yc,mean_base_param,label= \"Initial %s\"%fluid + \" Density\")        \n",
    "#         plt.plot(yc,mean_param,linestyle='--',label= \"Evolving %s\"%fluid + \" Density\") \n",
    "        plt.axhline(y=1, color='r', linestyle='--')      \n",
    "        plt.legend(loc=2)\n",
    "        plt.yscale('log')\n",
    "\n",
    "#         plt.text(50,4,\"StockHolm Turned on\",fontsize=12,color='red')\n",
    "\n",
    "        plt.ylabel(r\"Log $\\Sigma$\", fontsize=15)\n",
    "#         plt.ylabel(r\"Log $\\Delta \\Sigma/\\Sigma_{0}$\", fontsize=15)\n",
    "        plt.xlabel(r\"Radius\", fontsize=15)\n",
    "        plt.tight_layout()\n",
    "    outputfilename_figfile = os.path.join(path, fluid +'_'+ parameter +'%s'%number+ \".jpg\")\n",
    "    plt.savefig(outputfilename_figfile,format='jpg',dpi=300)\n",
    "    plt.close()\n",
    "    \n",
    "if __name__ == '__main__':\n",
    "    pool = mp.Pool()\n",
    "    pool.map(do_plot, range(0,number_of_orbit,10))\n",
    "print(\"End of simulation\")    \n",
    "end = time.time()\n",
    "T = end-start\n",
    "print(\"Total time for parallel run %.2f\"%T, 'sec')"
   ]
  },
  {
   "cell_type": "code",
   "execution_count": 7,
   "metadata": {},
   "outputs": [
    {
     "name": "stdout",
     "output_type": "stream",
     "text": [
      "Making the Video\n",
      "The video is done\n"
     ]
    }
   ],
   "source": [
    "## For making the movie: \n",
    "\n",
    "print(\"Making the Video\")\n",
    "\n",
    "file = folder.split(\"multifluid_\",1)[1].replace('/','')\n",
    "image_folder = path \n",
    "video_name = os.path.join(path2, file+ '_video_'+ fluid +'_'+ parameter + '_' + plot_type + '.mov')\n",
    "# video_name = file+'video_'+ fluid +'_'+ parameter + '_' + plot_type + '.mov'\n",
    "if os.path.isfile(video_name):\n",
    "    print(\"Removing the old video and making the new one\")\n",
    "    os.remove(video_name)\n",
    "\n",
    "image = [img for img in os.listdir(image_folder) if img.endswith(\".jpg\")]\n",
    "## sorting the images in ascending order of time\n",
    "images= sorted(image, key=lambda x: int(x.replace(fluid +'_'+ parameter, '').replace('.jpg', '')))\n",
    "# images =sorted(image)\n",
    "# print(images)\n",
    "frame = cv2.imread(os.path.join(image_folder, images[0]))\n",
    "height, width, layers = frame.shape\n",
    "\n",
    "video = cv2.VideoWriter(video_name, -1, 5, (width,height))\n",
    "\n",
    "for image in images:\n",
    "    video.write(cv2.imread(os.path.join(image_folder, image)))\n",
    "\n",
    "cv2.destroyAllWindows()\n",
    "video.release()\n",
    "\n",
    "print(\"The video is done\")"
   ]
  },
  {
   "cell_type": "code",
   "execution_count": 8,
   "metadata": {},
   "outputs": [],
   "source": [
    "## This is delete all the images to save space\n",
    "fileList = os.listdir(path)\n",
    "\n",
    "for fileName in fileList:\n",
    "#     print(fileName)\n",
    "    os.remove(path+\"/\"+fileName)\n",
    "\n",
    "\n"
   ]
  },
  {
   "cell_type": "code",
   "execution_count": null,
   "metadata": {},
   "outputs": [],
   "source": []
  }
 ],
 "metadata": {
  "kernelspec": {
   "display_name": "Python 3",
   "language": "python",
   "name": "python3"
  },
  "language_info": {
   "codemirror_mode": {
    "name": "ipython",
    "version": 3
   },
   "file_extension": ".py",
   "mimetype": "text/x-python",
   "name": "python",
   "nbconvert_exporter": "python",
   "pygments_lexer": "ipython3",
   "version": "3.6.8"
  }
 },
 "nbformat": 4,
 "nbformat_minor": 2
}
